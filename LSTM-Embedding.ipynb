{
 "cells": [
  {
   "cell_type": "code",
   "execution_count": 106,
   "id": "5d532080",
   "metadata": {},
   "outputs": [],
   "source": [
    "import numpy as np\n",
    "import pandas as pd\n",
    "from tensorflow.keras.preprocessing.text import Tokenizer\n",
    "from tensorflow.keras.preprocessing.sequence import pad_sequences\n",
    "from tensorflow.keras.models import Sequential\n",
    "from tensorflow.keras.layers import Embedding, LSTM, Dense, Dropout, Bidirectional, GRU, Bidirectional\n",
    "from tensorflow.keras.callbacks import EarlyStopping\n",
    "from tensorflow.keras.optimizers import Adam\n",
    "from keras import regularizers\n",
    "from nltk.tokenize import word_tokenize\n",
    "from sklearn.model_selection import train_test_split"
   ]
  },
  {
   "cell_type": "code",
   "execution_count": 80,
   "id": "f01d6f9f",
   "metadata": {},
   "outputs": [],
   "source": [
    "data = pd.read_csv('/Users/inigoparra/Desktop/carpeta sin título/clean-master.csv')"
   ]
  },
  {
   "cell_type": "code",
   "execution_count": 81,
   "id": "b9c3a586",
   "metadata": {},
   "outputs": [],
   "source": [
    "train_data, test_data = train_test_split(data, test_size=0.1, random_state=42)\n",
    "train_data, val_data = train_test_split(train_data, test_size=0.1, random_state=42)\n",
    "\n",
    "X_train = train_data['text']\n",
    "y_train = train_data['label']\n",
    "\n",
    "X_test = test_data['text']\n",
    "y_test = test_data['label']\n",
    "\n",
    "X_val = val_data['text']\n",
    "y_val = val_data['label']"
   ]
  },
  {
   "cell_type": "code",
   "execution_count": 82,
   "id": "4b0d643a",
   "metadata": {},
   "outputs": [],
   "source": [
    "with open('/Users/inigoparra/Desktop/GitHub Repositories/WiBaSets/stopwords.txt', 'r') as f:\n",
    "    stopwords = set(f.read().splitlines())\n",
    "\n",
    "def preprocess_text(text):\n",
    "    if not isinstance(text, str):\n",
    "        text = str(text)\n",
    "        \n",
    "    tokens = word_tokenize(text)\n",
    "    filtered_tokens = [token for token in tokens if token.lower() not in stopwords]\n",
    "    return ' '.join(filtered_tokens)\n",
    "\n",
    "X_train = X_train.apply(preprocess_text)\n",
    "X_test = X_test.apply(preprocess_text)\n",
    "X_val = X_val.apply(preprocess_text)"
   ]
  },
  {
   "cell_type": "code",
   "execution_count": 83,
   "id": "ac36a545",
   "metadata": {},
   "outputs": [
    {
     "name": "stdout",
     "output_type": "stream",
     "text": [
      "irailaren eaj bozkatzea izango herri gisa gizarte gisa aurrera egitea\n"
     ]
    }
   ],
   "source": [
    "import re\n",
    "import nltk\n",
    "\n",
    "def clean_text(text):\n",
    "    text = str(text).lower()\n",
    "    text = re.sub(r'http\\S+|www\\S+|https\\S+', '', text, flags=re.MULTILINE)  # Remove URLs\n",
    "    text = re.sub(r'\\@\\w+|\\#', '', text)  # Remove mentions and hashtags\n",
    "    text = re.sub(r'<.*?>', '', text)  # Remove HTML tags\n",
    "    text = re.sub(r'[0-9]', '', text)  # Remove numbers\n",
    "    text = re.sub(r'[^\\w\\s]', '', text)  # Remove punctuation and emojis\n",
    "    text = text.split()  # Tokenize the text\n",
    "    text = ' '.join(text)\n",
    "    return text\n",
    "\n",
    "X_train = X_train.apply(clean_text)\n",
    "X_test = X_test.apply(clean_text)\n",
    "X_val = X_val.apply(clean_text)\n",
    "\n",
    "print(X_train[1])"
   ]
  },
  {
   "cell_type": "code",
   "execution_count": 84,
   "id": "c3caacdb",
   "metadata": {},
   "outputs": [],
   "source": [
    "max_features = 20500\n",
    "max_len = 100\n",
    "embedding_dim = 300\n",
    "\n",
    "tokenizer = Tokenizer(num_words=max_features)\n",
    "tokenizer.fit_on_texts(X_train)\n",
    "\n",
    "X_train_seq = tokenizer.texts_to_sequences(X_train)\n",
    "X_test_seq = tokenizer.texts_to_sequences(X_test)\n",
    "X_val_seq = tokenizer.texts_to_sequences(X_val)\n",
    "\n",
    "X_train_pad = pad_sequences(X_train_seq, maxlen=max_len)\n",
    "X_test_pad = pad_sequences(X_test_seq, maxlen=max_len)\n",
    "X_val_pad = pad_sequences(X_val_seq, maxlen=max_len)"
   ]
  },
  {
   "cell_type": "code",
   "execution_count": 109,
   "id": "856a2547",
   "metadata": {},
   "outputs": [],
   "source": [
    "model = Sequential()\n",
    "model.add(Embedding(max_features, embedding_dim, input_length=max_len))\n",
    "model.add(Bidirectional(GRU(32, return_sequences=True,\n",
    "               kernel_regularizer=regularizers.l2(0.02), \n",
    "               recurrent_regularizer=regularizers.l2(0.02))))\n",
    "model.add(Dropout(0.6))\n",
    "model.add(Bidirectional(GRU(16)))\n",
    "model.add(Dropout(0.6))\n",
    "model.add(Dense(3, activation='softmax'))\n",
    "\n",
    "optimizer = Adam(lr=0.00005)\n",
    "model.compile(optimizer=optimizer, loss='sparse_categorical_crossentropy', metrics=['accuracy'])"
   ]
  },
  {
   "cell_type": "code",
   "execution_count": 110,
   "id": "e6d44133",
   "metadata": {},
   "outputs": [
    {
     "name": "stdout",
     "output_type": "stream",
     "text": [
      "Epoch 1/10\n",
      "293/293 [==============================] - 22s 65ms/step - loss: 7.1512 - accuracy: 0.3516 - val_loss: 6.2063 - val_accuracy: 0.3474\n",
      "Epoch 2/10\n",
      "293/293 [==============================] - 19s 63ms/step - loss: 5.4426 - accuracy: 0.3766 - val_loss: 4.7552 - val_accuracy: 0.3449\n",
      "Epoch 3/10\n",
      "293/293 [==============================] - 18s 63ms/step - loss: 4.1907 - accuracy: 0.3834 - val_loss: 3.6922 - val_accuracy: 0.3423\n",
      "Epoch 4/10\n",
      "293/293 [==============================] - 18s 62ms/step - loss: 3.2768 - accuracy: 0.3924 - val_loss: 2.9180 - val_accuracy: 0.3372\n",
      "Epoch 5/10\n",
      "293/293 [==============================] - 18s 63ms/step - loss: 2.6129 - accuracy: 0.4065 - val_loss: 2.3611 - val_accuracy: 0.3359\n",
      "Epoch 6/10\n",
      "293/293 [==============================] - 18s 63ms/step - loss: 2.1374 - accuracy: 0.4121 - val_loss: 1.9649 - val_accuracy: 0.3372\n",
      "Epoch 7/10\n",
      "293/293 [==============================] - 18s 63ms/step - loss: 1.8025 - accuracy: 0.4183 - val_loss: 1.6884 - val_accuracy: 0.3410\n",
      "Epoch 8/10\n",
      "293/293 [==============================] - 18s 63ms/step - loss: 1.5669 - accuracy: 0.4540 - val_loss: 1.4988 - val_accuracy: 0.3692\n",
      "Epoch 9/10\n",
      "293/293 [==============================] - 18s 63ms/step - loss: 1.3997 - accuracy: 0.4976 - val_loss: 1.3727 - val_accuracy: 0.3603\n",
      "Epoch 10/10\n",
      "293/293 [==============================] - 19s 63ms/step - loss: 1.2686 - accuracy: 0.5465 - val_loss: 1.2936 - val_accuracy: 0.3872\n"
     ]
    }
   ],
   "source": [
    "batch_size = 24\n",
    "epochs = 10\n",
    "early_stopping = EarlyStopping(monitor='val_loss', patience=7, restore_best_weights=True)\n",
    "\n",
    "history = model.fit(\n",
    "    X_train_pad, y_train,\n",
    "    validation_data=(X_val_pad, y_val),\n",
    "    batch_size=batch_size,\n",
    "    epochs=epochs,\n",
    "    callbacks=[early_stopping]\n",
    ")"
   ]
  },
  {
   "cell_type": "code",
   "execution_count": 117,
   "id": "5dd95204",
   "metadata": {},
   "outputs": [
    {
     "name": "stdout",
     "output_type": "stream",
     "text": [
      "39/39 [==============================] - 1s 21ms/step - loss: 1.1108 - accuracy: 0.3870\n",
      "Test loss: 1.1107869148254395, Test accuracy: 0.38701921701431274\n"
     ]
    }
   ],
   "source": [
    "loss, accuracy = model.evaluate(X_test_pad, y_test)\n",
    "print(f'Test loss: {loss}, Test accuracy: {accuracy}')"
   ]
  },
  {
   "cell_type": "code",
   "execution_count": null,
   "id": "0e2a33fd",
   "metadata": {},
   "outputs": [],
   "source": []
  }
 ],
 "metadata": {
  "kernelspec": {
   "display_name": "Python 3 (ipykernel)",
   "language": "python",
   "name": "python3"
  },
  "language_info": {
   "codemirror_mode": {
    "name": "ipython",
    "version": 3
   },
   "file_extension": ".py",
   "mimetype": "text/x-python",
   "name": "python",
   "nbconvert_exporter": "python",
   "pygments_lexer": "ipython3",
   "version": "3.8.16"
  }
 },
 "nbformat": 4,
 "nbformat_minor": 5
}
